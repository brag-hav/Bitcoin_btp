{
 "cells": [
  {
   "cell_type": "code",
   "execution_count": 161,
   "metadata": {},
   "outputs": [],
   "source": [
    "%reload_ext autoreload\n",
    "%autoreload 2"
   ]
  },
  {
   "cell_type": "markdown",
   "metadata": {},
   "source": []
  },
  {
   "cell_type": "code",
   "execution_count": 162,
   "metadata": {},
   "outputs": [],
   "source": [
    "import json\n",
    "file = open('./../r_addresses.json')\n",
    "wallet = json.load(file)"
   ]
  },
  {
   "cell_type": "code",
   "execution_count": 163,
   "metadata": {},
   "outputs": [
    {
     "name": "stdout",
     "output_type": "stream",
     "text": [
      "01000000000101f31eb784c2bcab1c6b3c35f2d6d6474319a4a421ec604d412390b3c057694e7c0100000000ffffffff01605d0a5402000000225120d53a7554fa8af2453ed8ca4c88c227f55019b771f103c2bf9d2c2e9b341a81ce02483045022100ddb91e78adf0c0f4e18f5ddfeb6b8ff9499dc70a6fd88dd3d6589bba318a0a87022026eed118efd54fb7bffd1414da0db3810ac79341b5ecb93ab4e531a2e4db08bc012103eb477934368b96afb4e7878b96f29bc4aec8238189652f17a7b33eb0ed6acbee00000000\n"
     ]
    }
   ],
   "source": [
    "# lock p2tr script\n",
    "from key import ECPubKey,ECKey\n",
    "from messages import CTxIn,COutPoint,CTxOut,CTransaction,CTxWitness,CTxInWitness,ser_uint256\n",
    "from script import tagged_hash, sha256,taproot_construct,SegwitV0SignatureHash, CScript, OP_1, OP_CHECKMULTISIG, OP_0,OP_CHECKSIG\n",
    "import sys\n",
    "sys.path.append(\"..\")\n",
    "from ecc import PrivateKey\n",
    "\n",
    "prev_tx_hx = int(\"7c4e6957c0b39023414d60ec21a4a4194347d6d6f2353c6b1cabbcc284b71ef3\", 16)\n",
    "prv_amount=int(100*100000000)\n",
    "prv_pub_key_hash = \"7d7143a28a3b836e3043f3ba5dbcdc4ee29b7457\"\n",
    "prv_script=bytes.fromhex(f\"76a914{prv_pub_key_hash}88ac\")\n",
    "prev_index = 1\n",
    "\n",
    "p=ECKey()\n",
    "p.set(0x00db5cdc1663eea25406126e642f72ef7c78f68d249589d2873c613e61929eea)\n",
    "\n",
    "target_public_key_bytes=bytes.fromhex(wallet[12][\"public key\"])\n",
    "target_amount = int(99.999*100000000)\n",
    "\n",
    "tx_in =CTxIn(COutPoint(prev_tx_hx, prev_index))\n",
    "\n",
    "target_public_key=ECPubKey().set(target_public_key_bytes)\n",
    "mast_scripts = [ CScript([target_public_key.get_bytes(), OP_CHECKSIG]) ]\n",
    "\n",
    "locking_script, tweak, control_map = taproot_construct(target_public_key, mast_scripts)\n",
    "\n",
    "tx_outs = CTxOut(target_amount, locking_script)\n",
    "\n",
    "tx = CTransaction()\n",
    "tx.vin=[tx_in]\n",
    "tx.vout=[tx_outs]\n",
    "tx.calc_sha256()\n",
    "tx_sig_hash = SegwitV0SignatureHash(prv_script, tx, 0, 0x01, prv_amount)\n",
    "tx_input_0_wit = CTxInWitness([p.sign_ecdsa(tx_sig_hash) + (1).to_bytes(1, 'big'), p.get_pubkey().get_bytes(False)])\n",
    "tx.wit.vtxinwit = [tx_input_0_wit]\n",
    "\n",
    "print(tx.serialize_with_witness().hex())\n",
    "\n",
    "# Use for Next Transaction\n",
    "tx1_outs = tx.vout\n",
    "t = tweak\n",
    "cmp = control_map\n"
   ]
  },
  {
   "cell_type": "code",
   "execution_count": 164,
   "metadata": {},
   "outputs": [
    {
     "name": "stdout",
     "output_type": "stream",
     "text": [
      "01000000000101dbf991437c6e8d719ede62ce479ef403f2064ff8f048fa815b194c526acba16c0000000000ffffffff01c0d60854020000001600147d7143a28a3b836e3043f3ba5dbcdc4ee29b74570340d3f1c9df6b46cc7377eff03f0d6414137b69245d81fed3904acb252048bbd99183d305751f8f0751dfaaf29ba511b03d55dfaf19671d6cd3b84653fb8123704d2220728f0593227b1ba7d31914bf2f83d7335e12fdb92c7b39d12999594b61997a19ac21c0728f0593227b1ba7d31914bf2f83d7335e12fdb92c7b39d12999594b61997a1900000000\n"
     ]
    }
   ],
   "source": [
    "# unlocking p2tr script path\n",
    "from messages import ser_string\n",
    "from script import get_p2wpkh_script, TaprootSignatureHash\n",
    "from segwit_addr import decode_segwit_address\n",
    "from key import SECP256K1_ORDER, SECP256K1, SECP256K1_G, int_or_bytes\n",
    "\n",
    "taproot_locking_tx_id = int(\"6ca1cb6a524c195b81fa48f0f84f06f203f49e47ce62de9e718d6e7c4391f9db\", 16)\n",
    "taproot_locking_tx_index = 0\n",
    "\n",
    "taproot_unlocking_sec_key = ECKey().set(bytes.fromhex(\"13e4f9204068a232f23fe6305bb6c1fcb6d2c6e53347956a7fbaf2953737ab4c\"))\n",
    "\n",
    "target_amount = int(99.998*100000000)\n",
    "target_b32_address = wallet[0][\"address\"]\n",
    "\n",
    "tx_in_0 = CTxIn(COutPoint(taproot_locking_tx_id, taproot_locking_tx_index))\n",
    "tx_ins = [tx_in_0]\n",
    "\n",
    "locking_public_key_hash = bytes(decode_segwit_address(\"bcrt\", target_b32_address)[1])\n",
    "locking_script = get_p2wpkh_script(locking_public_key_hash)\n",
    "tx_out_0 = CTxOut(target_amount, locking_script)\n",
    "tx_outs = [tx_out_0]\n",
    "\n",
    "tx = CTransaction()\n",
    "tx.vin = tx_ins\n",
    "tx.vout = tx_outs\n",
    "tx.calc_sha256()\n",
    "\n",
    "prev_tx_outs = tx1_outs\n",
    "tx_sig_hash_0 = TaprootSignatureHash(tx, prev_tx_outs, 0X00, 0, True, list(cmp)[0])\n",
    "taproot_unlocking_sec_key.negate()\n",
    "tx_sign_0 = taproot_unlocking_sec_key.sign_schnorr(tx_sig_hash_0)\n",
    "\n",
    "tx_input_0_wit = CTxInWitness([ tx_sign_0, list(cmp)[0], cmp[list(cmp)[0]]])\n",
    "tx.wit.vtxinwit = [tx_input_0_wit]\n",
    "print(tx.serialize_with_witness().hex())\n",
    "\n"
   ]
  },
  {
   "cell_type": "code",
   "execution_count": 40,
   "metadata": {},
   "outputs": [
    {
     "name": "stdout",
     "output_type": "stream",
     "text": [
      "5b75adecf53548f3ec6ad7d78383bf84cc57b55a3127c72b9a2481752dd88b21\n",
      "147c9c57132f6e7ecddba9800bb0c4449251c92a1e60371ee77557b6620f3ea3\n",
      "5120147c9c57132f6e7ecddba9800bb0c4449251c92a1e60371ee77557b6620f3ea3\n",
      "cbd8679ba636c1110ea247542cfbd964131a6be84f873f7f3b62a777528ed001\n",
      "c1187791b6f712a8ea41c8ecdd0ee77fab3e85263b37e1ec18a3651926b3a6cf27\n"
     ]
    }
   ],
   "source": [
    "from script import taproot_tree_helper\n",
    "internal_pub_key = ECPubKey().set(bytes.fromhex(\"187791b6f712a8ea41c8ecdd0ee77fab3e85263b37e1ec18a3651926b3a6cf27\"))\n",
    "locking_script, tweak, cmp = taproot_construct(internal_pub_key, [ (0xc0, CScript(bytes.fromhex(\"20d85a959b0290bf19bb89ed43c916be835475d013da4b362117393e25a48229b8ac\")) )])\n",
    "\n",
    "print(taproot_tree_helper([ (0xc0, CScript(bytes.fromhex(\"20d85a959b0290bf19bb89ed43c916be835475d013da4b362117393e25a48229b8ac\")) )])[1].hex())\n",
    "print(internal_pub_key.tweak_add(tweak).get_bytes().hex())\n",
    "print(locking_script.hex())\n",
    "print(tweak.hex())\n",
    "print(cmp[list(cmp)[0]].hex())\n",
    "\n"
   ]
  },
  {
   "cell_type": "code",
   "execution_count": 120,
   "metadata": {},
   "outputs": [
    {
     "name": "stdout",
     "output_type": "stream",
     "text": [
      "095cd0a958544b88d7ac58a2f29ccd49c9565a9f7fe7aa966df419bf7da0a52b\n",
      "31969fa408e51b2fec3121eb6a4d2ac802a987aa890a486477b7320eb510377a\n",
      "(51816362344230832880300216262509008239902364748236324249889473786728335112729, 4162054245958954304649435371766049053427989041172356308662552853458952477290, 1)\n",
      "51816362344230832880300216262509008239902364748236324249889473786728335112729\n"
     ]
    }
   ],
   "source": [
    "bye = b'\\t\\\\\\xd0\\xa9XTK\\x88\\xd7\\xacX\\xa2\\xf2\\x9c\\xcdI\\xc9VZ\\x9f\\x7f\\xe7\\xaa\\x96m\\xf4\\x19\\xbf}\\xa0\\xa5+'\n",
    "print(bye.hex())\n",
    "\n",
    "bye2 = b'1\\x96\\x9f\\xa4\\x08\\xe5\\x1b/\\xec1!\\xebjM*\\xc8\\x02\\xa9\\x87\\xaa\\x89\\nHdw\\xb72\\x0e\\xb5\\x107z'\n",
    "print(bye2.hex())\n",
    "\n",
    "print(SECP256K1.lift_x(int.from_bytes(pub_key, 'big')))\n",
    "\n",
    "print(\"43273777186443610501550240681962765976649068965092868303218065941808905780180\")"
   ]
  },
  {
   "cell_type": "code",
   "execution_count": null,
   "metadata": {},
   "outputs": [],
   "source": []
  }
 ],
 "metadata": {
  "kernelspec": {
   "display_name": ".venv",
   "language": "python",
   "name": "python3"
  },
  "language_info": {
   "codemirror_mode": {
    "name": "ipython",
    "version": 3
   },
   "file_extension": ".py",
   "mimetype": "text/x-python",
   "name": "python",
   "nbconvert_exporter": "python",
   "pygments_lexer": "ipython3",
   "version": "3.10.6"
  },
  "orig_nbformat": 4,
  "vscode": {
   "interpreter": {
    "hash": "a2a5c69a77aedfe9b83004a6099efd98eefdebb63060e7c4269401d48e0c9380"
   }
  }
 },
 "nbformat": 4,
 "nbformat_minor": 2
}
