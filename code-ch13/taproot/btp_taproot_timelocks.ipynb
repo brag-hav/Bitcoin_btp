{
 "cells": [
  {
   "cell_type": "code",
   "execution_count": 1,
   "metadata": {},
   "outputs": [],
   "source": [
    "%reload_ext autoreload\n",
    "%autoreload 2"
   ]
  },
  {
   "cell_type": "code",
   "execution_count": null,
   "metadata": {},
   "outputs": [],
   "source": []
  },
  {
   "cell_type": "code",
   "execution_count": 2,
   "metadata": {},
   "outputs": [],
   "source": [
    "import json\n",
    "file = open('./../r_addresses.json')\n",
    "wallet = json.load(file)"
   ]
  },
  {
   "cell_type": "code",
   "execution_count": 9,
   "metadata": {},
   "outputs": [
    {
     "name": "stdout",
     "output_type": "stream",
     "text": [
      "0200000000010159ac4bc319458d7d58fba97b4e9e54c59705610ec18cf69dd6bccabd1428ef720100000000ffffffff016043993b0000000022512052b4f4d6a66f5b763b4c903aa0847b8fb2ec0d1ae8b458d057020daa5ea58ebb024730440220769e0dcd9fc50b71a92e996f018d274a1aa5a1d4e22df3113ff906207825175302200250ba71c5685b3a5175dae6d5d1d5508b0eebfd5aa96618c247b95952caf014012103eb477934368b96afb4e7878b96f29bc4aec8238189652f17a7b33eb0ed6acbee00000000\n"
     ]
    }
   ],
   "source": [
    "# lock p2tr script\n",
    "import struct\n",
    "from key import ECPubKey,ECKey\n",
    "from time import time\n",
    "from messages import CTxIn,COutPoint,CTxOut,CTransaction,CTxWitness,CTxInWitness,ser_uint256\n",
    "from script import tagged_hash, sha256,taproot_construct,SegwitV0SignatureHash, CScript, OP_2,OP_1, OP_CHECKMULTISIG, OP_0,OP_CHECKSIG, OP_DROP, OP_CHECKLOCKTIMEVERIFY, OP_CHECKSEQUENCEVERIFY\n",
    "import sys\n",
    "sys.path.append(\"..\")\n",
    "from ecc import PrivateKey\n",
    "\n",
    "prev_tx_hx = int(\"2063c950fa67e26f6afe9035b0078fcc1284088c4cac882ed87f0f8f7d35c2ed\", 16)\n",
    "prv_amount=int(10*100000000)\n",
    "prv_pub_key_hash = \"7d7143a28a3b836e3043f3ba5dbcdc4ee29b7457\"\n",
    "prv_script=bytes.fromhex(f\"76a914{prv_pub_key_hash}88ac\")\n",
    "prev_index = 1\n",
    "\n",
    "p=ECKey()\n",
    "p.set(0x00db5cdc1663eea25406126e642f72ef7c78f68d249589d2873c613e61929eea)\n",
    "\n",
    "target_public_key_bytes=bytes.fromhex(wallet[12][\"public key\"])\n",
    "target_amount = int(9.999*100000000)\n",
    "\n",
    "sequence = (1 << 22 ) | (1 << 0)\n",
    "tx_in =CTxIn(COutPoint(prev_tx_hx, prev_index), nSequence=0xffffffff)\n",
    "\n",
    "target_public_key=ECPubKey().set(target_public_key_bytes)\n",
    "mast_scripts = [ CScript([sequence.to_bytes(3,\"little\"), OP_CHECKSEQUENCEVERIFY, OP_DROP, target_public_key.get_bytes(), OP_CHECKSIG]) ]\n",
    "\n",
    "locking_script, tweak, control_map = taproot_construct(target_public_key, mast_scripts)\n",
    "\n",
    "tx_outs = CTxOut(target_amount, locking_script)\n",
    "\n",
    "tx = CTransaction()\n",
    "tx.nVersion=2\n",
    "tx.vin=[tx_in]\n",
    "tx.vout=[tx_outs]\n",
    "# tx.nLockTime = round(time() + 60)\n",
    "tx.calc_sha256()\n",
    "tx_sig_hash = SegwitV0SignatureHash(prv_script, tx, 0, 0x01, prv_amount)\n",
    "tx_input_0_wit = CTxInWitness([p.sign_ecdsa(tx_sig_hash) + (1).to_bytes(1, 'big'), p.get_pubkey().get_bytes(False)])\n",
    "tx.wit.vtxinwit = [tx_input_0_wit]\n",
    "\n",
    "print(tx.serialize_with_witness().hex())\n",
    "\n",
    "# Use for Next Transaction\n",
    "tx1_outs = tx.vout\n",
    "t = tweak\n",
    "cmp = control_map"
   ]
  },
  {
   "cell_type": "code",
   "execution_count": 11,
   "metadata": {},
   "outputs": [
    {
     "name": "stdout",
     "output_type": "stream",
     "text": [
      "0200000000010107d5010cda7fec5d19852a331be9af230b1fe2ba8b2ff6d853e6359829c6de8600000000000400400001bfbc973b000000001600147d7143a28a3b836e3043f3ba5dbcdc4ee29b74570340b16dc3312f55ed067546ee5723ffedc8e71ff1085ab92139bdb1319161ce55c9ce998519bfe940c4d9a8b9e29a66b3df0c17b32870606f019646987062ff39d12803010040b27520728f0593227b1ba7d31914bf2f83d7335e12fdb92c7b39d12999594b61997a19ac21c1728f0593227b1ba7d31914bf2f83d7335e12fdb92c7b39d12999594b61997a1900000000\n"
     ]
    }
   ],
   "source": [
    "# unlocking p2tr script path htlc\n",
    "from messages import ser_string\n",
    "from script import get_p2wpkh_script, TaprootSignatureHash\n",
    "from segwit_addr import decode_segwit_address\n",
    "from key import SECP256K1_ORDER, SECP256K1, SECP256K1_G, int_or_bytes\n",
    "\n",
    "\n",
    "taproot_locking_tx_id = int(\"86dec6299835e653d8f62f8bbae21f0b23afe91b332a85195dec7fda0c01d507\", 16)\n",
    "taproot_locking_tx_index = 0\n",
    "\n",
    "taproot_unlocking_sec_key = ECKey().set(bytes.fromhex(\"13e4f9204068a232f23fe6305bb6c1fcb6d2c6e53347956a7fbaf2953737ab4c\"))\n",
    "\n",
    "target_amount = int(9.998*100000000)\n",
    "target_b32_address = wallet[0][\"address\"]\n",
    "\n",
    "sequence = (1 << 22) | (1 << 2)\n",
    "\n",
    "tx_in_0 = CTxIn(COutPoint(taproot_locking_tx_id, taproot_locking_tx_index), nSequence=sequence)\n",
    "tx_ins = [tx_in_0]\n",
    "\n",
    "\n",
    "locking_public_key_hash = bytes(decode_segwit_address(\"bcrt\", target_b32_address)[1])\n",
    "locking_script = get_p2wpkh_script(locking_public_key_hash)\n",
    "tx_out_0 = CTxOut(target_amount, locking_script)\n",
    "tx_outs = [tx_out_0]\n",
    "\n",
    "tx = CTransaction()\n",
    "tx.nVersion = 2\n",
    "tx.vin = tx_ins\n",
    "tx.vout = tx_outs\n",
    "tx.calc_sha256()\n",
    "\n",
    "prev_tx_outs = tx1_outs\n",
    "tx_sig_hash_0 = TaprootSignatureHash(tx, prev_tx_outs, 0X00, 0, True, list(cmp)[0])\n",
    "taproot_unlocking_sec_key.negate()\n",
    "tx_sign_0 = taproot_unlocking_sec_key.sign_schnorr(tx_sig_hash_0)\n",
    "\n",
    "tx_input_0_wit = CTxInWitness([ tx_sign_0, list(cmp)[0], cmp[list(cmp)[0]]])\n",
    "tx.wit.vtxinwit = [tx_input_0_wit]\n",
    "print(tx.serialize_with_witness().hex())\n",
    "\n"
   ]
  },
  {
   "cell_type": "code",
   "execution_count": null,
   "metadata": {},
   "outputs": [],
   "source": []
  }
 ],
 "metadata": {
  "kernelspec": {
   "display_name": ".venv",
   "language": "python",
   "name": "python3"
  },
  "language_info": {
   "codemirror_mode": {
    "name": "ipython",
    "version": 3
   },
   "file_extension": ".py",
   "mimetype": "text/x-python",
   "name": "python",
   "nbconvert_exporter": "python",
   "pygments_lexer": "ipython3",
   "version": "3.10.6"
  },
  "orig_nbformat": 4
 },
 "nbformat": 4,
 "nbformat_minor": 2
}
