{
 "cells": [
  {
   "cell_type": "code",
   "execution_count": 2,
   "metadata": {},
   "outputs": [
    {
     "name": "stdout",
     "output_type": "stream",
     "text": [
      "[{'path': \"m/84'/1'/0'/0/0\", 'address': 'bcrt1qqye2yjtwu2vzwae4yy8akrvymhe74vh6a4kl8y', 'public key': '032c1a35fbbbe00a4986beae38f3b75a9dfe63abbf5840b36a2192970f54800d49', 'private key': 'cRKfqvoFyGEdRtpwajn69s7idBB4181XHthPxtV21sQ1xtPVKUMM'}, {'path': \"m/84'/1'/0'/0/1\", 'address': 'bcrt1q525wljzkhuuwh697jdxexqz5j76n04jzsk5e3p', 'public key': '0358c34c3e7ae44db21c4baea22dc89460c07fc87e14f3a1c3666dfbe23d63a5e6', 'private key': 'cPwREwWvps8CLiQhjjj4zvevhSWwsWMK7S5rhDLbS8reovLzGgTN'}, {'path': \"m/84'/1'/0'/0/2\", 'address': 'bcrt1quwx7defpy5j27pvr85frahsqjv9lahalkk4gjs', 'public key': '02ce98c5a919db45a787ad5c46c60f00780c282b30b797b1cca133eaa085b95f7b', 'private key': 'cUK7vaythtycthSDvMRgh89yEvKWoaui3acZ2XAUuSLSo7Ug8Qje'}, {'path': \"m/84'/1'/0'/0/3\", 'address': 'bcrt1qte443hqyyatg2kltcrce7dw2jhu22746rxqv43', 'public key': '02b7d787a649664e0d53eb38ad351df692b09885550b26c2931ae0df9d7f4e1021', 'private key': 'cSwF2QFTEabCwcGxg1VSF3PMWLuivT5GTDt72V5K7VqvBtMXBMLY'}, {'path': \"m/84'/1'/0'/0/4\", 'address': 'bcrt1q52fe8a8dyafxk98j9gmfaf0gsjqf5n9ugu2fzc', 'public key': '02bcc91816bf960e2054945214136444bba80480dcb55bdddf36b86f7bde6cd3e1', 'private key': 'cN3ZWemQ5rFWSMQWsortrbPLyfPo9FrNyiU1Q4hsy7KJj75frkN2'}, {'path': \"m/84'/1'/0'/0/5\", 'address': 'bcrt1qu29e8xh8u67jrejel54el7zf2adcud792xdaxg', 'public key': '0385eb715e11563c3e3e7a1f19904db0b5a4fd308444763931efcb1cafe8c4742c', 'private key': 'cQki8DMpSvKDGftT52WLP6DsJjUrDH1ijrLqGpR6hTwcmQ7VKa9R'}, {'path': \"m/84'/1'/0'/0/6\", 'address': 'bcrt1q9fy4pph2f2p4az8wv049t0t5apm274h0lkj9l4', 'public key': '027ae8ae85253e28b1df9457e9504d8aa956f0123a842d624ca96588d5e0e51501', 'private key': 'cU2XxNWxHqfhFmrjkYf86J3YPmuMWTtTWpXPzE6Xyb3FofifrVYi'}, {'path': \"m/84'/1'/0'/0/7\", 'address': 'bcrt1qepfq3rsy7zk0f43l9658wjtwshw4mv8smu7p7s', 'public key': '0395f0697526b65009b87ab82c2f17eb8ccfe42959c3c16a0170b80eeeba770f1a', 'private key': 'cRtQgkzaEUDLGFBbpHfiwYZKXeT8fkrDLchBDnTmvUP4bKWhqR4r'}, {'path': \"m/84'/1'/0'/0/8\", 'address': 'bcrt1q65qt2h2mf0nmkkufn33s5zrve6exrmqzxf2s5f', 'public key': '021279cb7dd0ec674e2e33843373d852390630bb0ce6cf9ef4c7525b4152727bb8', 'private key': 'cSdpSjG74PiRd4a3SXgZ6AWk7p5x4qo9K8DL1NGBgMc156Kj8zsQ'}, {'path': \"m/84'/1'/0'/0/9\", 'address': 'bcrt1q8wpylp8k7ee4mpdcyxn7mzn9jp2vz3kuzm9efw', 'public key': '029b1b0debf35c32232c59f15fb2c29522adbbb4fbb2741b3b26d864f56c06e245', 'private key': 'cQtMuWqGFAWfx6FFAyLccLAGHbsFwxjSTzpK8GcktY4oMBSq1U58'}, {'path': \"m/84'/1'/0'/0/10\", 'address': 'bcrt1q3l5xu8s3wvs59lnlcen3qdljssrvcp0mxs0p70', 'public key': '02f20c1278d0e5cb8eecb9ecaf93cd6e6c36fc0eb9ce074f0f86e109ab151c22bd', 'private key': 'cMczNq3nLthLNMXLGFSkX1WFKerXEGMvwMYYWZC3hUcVY6DaFBam'}, {'path': \"m/84'/1'/0'/0/11\", 'address': 'bcrt1qsplstr7h8j0ydh622ttvtfpl455662nn2wp3mm', 'public key': '02ca220b6d7c1a2267af43bb047aacea19b4ee503c13488583027f3f3aa7698807', 'private key': 'cS3pE4yXwUZcYNV8ZBLu4cy3uFsWvXKrN8xp5r7p8KQRTWVZA5FY'}, {'path': \"m/84'/1'/0'/0/12\", 'address': 'bcrt1q4w3svk9lqftvjnypexmgpdau4524v53fp72uh2', 'public key': '0209b36471504a9d255b8cfb609976d72681df51a4329ed493a54c69e61bbfea94', 'private key': 'cPEp59pGthQL4cJN4kBtJSh3TshNp9ukg8mxpS1efQYexGFMdKGp'}, {'path': \"m/84'/1'/0'/0/13\", 'address': 'bcrt1ql8qn63grj96fr9mx3na6clfz3c2ewqdkv5mc33', 'public key': '0387379fbbec1ccf786fc3d5a7b5941ef74b9da3e7cf13b847acb4bf5c4c35b128', 'private key': 'cNdLJoufbbwPMJ6zBucgc7vcG4DHiXeT8m4acEXTbLC6kL1k9n3i'}, {'path': \"m/84'/1'/0'/0/14\", 'address': 'bcrt1q0t7pd4e3s0srztthl54wsvgk4lkr86epy775dk', 'public key': '0265e8333c663e8b1f1eb07d64004821c1515b1ec81e11ebd765da6b79c6700d4a', 'private key': 'cRrDtZWqRLCzXbXhZRM7bUPzVL1x9HaGRkE2udRdnTjpTBKUXE36'}, {'path': \"m/84'/1'/0'/0/15\", 'address': 'bcrt1q463tgaqnsj2ktaezwgsfdez9flmc003fgyqe8v', 'public key': '02fdd2cc5058c1db17ccb09a2489bbadd07712eea64bbeabb73f5bf4ef9743469a', 'private key': 'cQQkMdzst9pkLkw3Vx2PKjoSWNSdVbWzu1nX3ucfNwDpsWr1hnoX'}, {'path': \"m/84'/1'/0'/0/16\", 'address': 'bcrt1qqwccmrm9ewu7c9xq44lhzlscr9c6c8fvaz5zjw', 'public key': '0358cac1c28e3f168898acca64dd8d1f78d2117e4071b5e4b197ae8f5532cc2ce2', 'private key': 'cTEQ51wVL8bp21iXx3NTCr1VJMcZaqKaeP3bpL3u7EBuyjT4Sk2U'}, {'path': \"m/84'/1'/0'/0/17\", 'address': 'bcrt1qt3gur37k4hgk79w52ul79jvkk4wxpzmzh226xv', 'public key': '031f559b1e164e8d1f9dc8cd1ffe9e4237d342b3f54d140dd9c603f52fc3a6816f', 'private key': 'cVodHeuZrdL3tKcM8t1KfXW2VsdtXHhnYoinhwZdR5TCuFDVpmf2'}, {'path': \"m/84'/1'/0'/0/18\", 'address': 'bcrt1quh5fe36zhanc2tcg5e79trwra7xl4gqxhyfudl', 'public key': '02dff3cd47aef62214b902b4dc6da64af9355a63e668ba836ff3552b6bd3065eb0', 'private key': 'cRDsxQCB2S2RXBuK6QrB71jrPBsNToEa5BGNgkz6kF6ZMZTkxHCG'}, {'path': \"m/84'/1'/0'/0/19\", 'address': 'bcrt1q3mkv2g86kzsf9t70ulj6s5aphg4uqyaml67p8q', 'public key': '034e6a765edee69e5e13e65e125ebc05cf7a155b9af78bea2e35c668a1b3df2487', 'private key': 'cVXYuuYBJ5WEGy3vgLg69Z2LRVKZU9TdUaENhMuMqmeSQdS8acqk'}]\n"
     ]
    }
   ],
   "source": [
    "from script import TaprootSignatureHash\n",
    "import json\n",
    "file = open('./../addresses.json')\n",
    "private_keys = json.load(file)\n",
    "print(private_keys)"
   ]
  },
  {
   "cell_type": "code",
   "execution_count": null,
   "metadata": {},
   "outputs": [],
   "source": [
    "# lock p2tr\n",
    "from helper import decode_base58, SIGHASH_ALL\n",
    "from script import p2wpkh_script, Script\n",
    "from ecc import PrivateKey\n",
    "\n",
    "\n",
    "prev_tx_hx = \"f5bfa44f5ffa77b5d52ef684e041f0b2eb11407de276b629f907831f432b55b5\"\n",
    "\n",
    "\n",
    "prev_tx = bytes.fromhex(prev_tx_hx)\n",
    "prev_index = 0\n",
    "tx_in = TxIn(prev_tx, prev_index)\n",
    "tx_in.witness={ }\n",
    "tx_outs = []\n",
    "target_amount = int(12.499*100000000)\n",
    "target_h160 = decode(\"bcrt\", 'bcrt1quwx7defpy5j27pvr85frahsqjv9lahalkk4gjs')[1]\n",
    "target_script = p2wpkh_script(bytes(target_h160))\n",
    "target_output = TxOut(amount=target_amount, script_pubkey=target_script)\n",
    "\n",
    "pk = PrivateKey(0x012d606029786350ea1c8d1cedb44b7f82b0b095e86b291cb82ce845c0074889)\n",
    "\n",
    "tx_obj = Tx(1, [tx_in], [ target_output], 0, True,True)\n",
    "tx_obj.tx_ins[0].witness=tx_obj.sign_input(0,pk)\n",
    "\n",
    "print(tx_obj.serialize_segwit().hex())\n"
   ]
  }
 ],
 "metadata": {
  "kernelspec": {
   "display_name": ".venv",
   "language": "python",
   "name": "python3"
  },
  "language_info": {
   "codemirror_mode": {
    "name": "ipython",
    "version": 3
   },
   "file_extension": ".py",
   "mimetype": "text/x-python",
   "name": "python",
   "nbconvert_exporter": "python",
   "pygments_lexer": "ipython3",
   "version": "3.10.6"
  },
  "orig_nbformat": 4
 },
 "nbformat": 4,
 "nbformat_minor": 2
}
