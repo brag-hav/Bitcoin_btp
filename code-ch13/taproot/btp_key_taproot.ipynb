{
 "cells": [
  {
   "cell_type": "code",
   "execution_count": 2,
   "metadata": {},
   "outputs": [],
   "source": [
    "%reload_ext autoreload\n",
    "%autoreload 2"
   ]
  },
  {
   "cell_type": "code",
   "execution_count": 3,
   "metadata": {},
   "outputs": [],
   "source": [
    "# import json\n",
    "# file = open('./../addresses.json')\n",
    "# private_keys = json.load(file)\n",
    "# print(private_keys[9][\"private key\"])\n",
    "import json\n",
    "file = open('./../r_addresses.json')\n",
    "wallet = json.load(file)"
   ]
  },
  {
   "cell_type": "code",
   "execution_count": 4,
   "metadata": {},
   "outputs": [],
   "source": [
    "SIGHASH_ALL = 1"
   ]
  },
  {
   "cell_type": "code",
   "execution_count": null,
   "metadata": {},
   "outputs": [],
   "source": []
  },
  {
   "cell_type": "code",
   "execution_count": 5,
   "metadata": {},
   "outputs": [
    {
     "name": "stdout",
     "output_type": "stream",
     "text": [
      "01000000000101eb279edb342134ca732246f4a3e42df55eb225fbe57c4870f375850307174fe60100000000ffffffff01605d0a540200000022512068faa8de787e97e0b61386debad632bb0891b53cd58e7b897dbe5fe2d4e87c9102483045022100d5d0d84e83911260cb3e4bcaf909cdce57295fc11cb288d6b32f64468c999fe202201ecfc4f0a3a2fc09a305f852fc699db7f8b3bb750cb6812a46f8f63881440bb5012103eb477934368b96afb4e7878b96f29bc4aec8238189652f17a7b33eb0ed6acbee00000000\n"
     ]
    }
   ],
   "source": [
    "# lock p2tr\n",
    "from key import ECPubKey,ECKey\n",
    "from messages import CTxIn,COutPoint,CTxOut,CTransaction,CTxWitness,CTxInWitness\n",
    "from script import tagged_hash, sha256,taproot_construct,SegwitV0SignatureHash\n",
    "import sys\n",
    "sys.path.append(\"..\")\n",
    "from ecc import PrivateKey\n",
    "\n",
    "\n",
    "prev_tx_hx = int(\"759fa5670209f5edb5d9e911ec02be35e099bd50f8f241696e404d77e3c36ca8\", 16)\n",
    "prv_amount=int(100*100000000)\n",
    "# prv_script=bytes.fromhex(\"76a9148fe86e1e11732142fe7fc6671037f28406cc05fb88ac\")\n",
    "prv_pub_key_hash = \"7d7143a28a3b836e3043f3ba5dbcdc4ee29b7457\"\n",
    "prv_script=bytes.fromhex(f\"76a914{prv_pub_key_hash}88ac\")\n",
    "prev_index = 1\n",
    "\n",
    "p=ECKey()\n",
    "# p.set(0x012d606029786350ea1c8d1cedb44b7f82b0b095e86b291cb82ce845c0074889)\n",
    "p.set(0x00db5cdc1663eea25406126e642f72ef7c78f68d249589d2873c613e61929eea)\n",
    "# target_public_key_bytes=bytes.fromhex(private_keys[13][\"public key\"])\n",
    "target_public_key_bytes=bytes.fromhex(wallet[12][\"public key\"])\n",
    "target_amount = int(99.999*100000000)\n",
    "\n",
    "tx_in =CTxIn(COutPoint(prev_tx_hx, prev_index))\n",
    "\n",
    "target_public_key=ECPubKey()\n",
    "target_public_key.set(target_public_key_bytes)\n",
    "\n",
    "locking_script = taproot_construct(target_public_key)[0]\n",
    "\n",
    "tx_outs = CTxOut(target_amount, locking_script)\n",
    "\n",
    "tx = CTransaction()\n",
    "tx.vin=[tx_in]\n",
    "tx.vout=[tx_outs]\n",
    "tx.calc_sha256()\n",
    "tx_sig_hash = SegwitV0SignatureHash(prv_script,tx,0,0x01,prv_amount)\n",
    "tx_input_0_wit = CTxInWitness([p.sign_ecdsa(tx_sig_hash) + (1).to_bytes(1, 'big'),p.get_pubkey().get_bytes(False)])\n",
    "tx.wit.vtxinwit = [tx_input_0_wit]\n",
    "\n",
    "print(tx.serialize_with_witness().hex())\n",
    "\n",
    "# Use for Next Transaction\n",
    "tx1_outs = tx.vout\n"
   ]
  },
  {
   "cell_type": "code",
   "execution_count": 26,
   "metadata": {},
   "outputs": [
    {
     "name": "stdout",
     "output_type": "stream",
     "text": [
      "010000000001018826df4f6cce994b40a9b6d6dd6bfddc43aa26785e08b19b6a382ec0f8cd85680000000000ffffffff01c0d6085402000000160014fce7aed87fbb8b90029dee7fe3b5ed28466347a50140e6129959c249592026bac52be9bc4f7e566927093725da96ef69ab32d9aaf2f80826428711e3a9177bde3273a7626902046184a195aa493f577610c3aef6559c00000000\n"
     ]
    }
   ],
   "source": [
    "# unlocking p2tr key path\n",
    "from script import get_p2wpkh_script, TaprootSignatureHash\n",
    "from segwit_addr import decode_segwit_address\n",
    "\n",
    "taproot_locking_tx_id = int(\"6885cdf8c02e386a9bb1085e7826aa43dcfd6bddd6b6a9404b99ce6c4fdf2688\", 16)\n",
    "taproot_locking_tx_index = 0\n",
    "\n",
    "# taproot_unlocking_sec_key = ECKey().set(bytes.fromhex(\"1f31014cced3d1a22262825455ce2b8d2bb988482184797c77fc4bcdbd64f271\"))\n",
    "taproot_unlocking_sec_key = ECKey().set(bytes.fromhex(\"13e4f9204068a232f23fe6305bb6c1fcb6d2c6e53347956a7fbaf2953737ab4c\"))\n",
    "taproot_unlocking_sec_key.negate()\n",
    "target_amount = int(99.998*100000000)\n",
    "target_b32_address = wallet[12][\"address\"]\n",
    "\n",
    "tx_in_0 = CTxIn(COutPoint(taproot_locking_tx_id, taproot_locking_tx_index))\n",
    "tx_ins = [tx_in_0]\n",
    "\n",
    "locking_public_key_hash = bytes(decode_segwit_address(\"bcrt\", target_b32_address)[1])\n",
    "locking_script = get_p2wpkh_script(locking_public_key_hash)\n",
    "tx_out_0 = CTxOut(target_amount, locking_script)\n",
    "tx_outs = [tx_out_0]\n",
    "\n",
    "tx = CTransaction()\n",
    "tx.vin = tx_ins\n",
    "tx.vout = tx_outs\n",
    "tx.calc_sha256()\n",
    "\n",
    "tweak = tagged_hash(\"TapTweak\", taproot_unlocking_sec_key.get_pubkey().get_bytes())\n",
    "tweaked_unlocking_secret_key = taproot_unlocking_sec_key.tweak_add(tweak)\n",
    "prev_tx_outs = tx1_outs\n",
    "tx_sig_hash_0 = TaprootSignatureHash(tx, prev_tx_outs, 0X00)\n",
    "tweaked_unlocking_secret_key.negate()\n",
    "tx_sign_0 = tweaked_unlocking_secret_key.sign_schnorr(tx_sig_hash_0)\n",
    "\n",
    "tx_input_0_wit = CTxInWitness([tx_sign_0])\n",
    "tx.wit.vtxinwit = [tx_input_0_wit]\n",
    "\n",
    "print(tx.serialize_with_witness().hex())"
   ]
  },
  {
   "cell_type": "code",
   "execution_count": null,
   "metadata": {},
   "outputs": [],
   "source": []
  }
 ],
 "metadata": {
  "kernelspec": {
   "display_name": ".venv",
   "language": "python",
   "name": "python3"
  },
  "language_info": {
   "codemirror_mode": {
    "name": "ipython",
    "version": 3
   },
   "file_extension": ".py",
   "mimetype": "text/x-python",
   "name": "python",
   "nbconvert_exporter": "python",
   "pygments_lexer": "ipython3",
   "version": "3.10.6"
  },
  "orig_nbformat": 4,
  "vscode": {
   "interpreter": {
    "hash": "a2a5c69a77aedfe9b83004a6099efd98eefdebb63060e7c4269401d48e0c9380"
   }
  }
 },
 "nbformat": 4,
 "nbformat_minor": 2
}
